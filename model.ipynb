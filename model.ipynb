{
 "cells": [
  {
   "cell_type": "code",
   "execution_count": 13,
   "metadata": {},
   "outputs": [],
   "source": [
    "import mat73\n",
    "import cv2\n",
    "import numpy as np\n",
    "from PIL import Image,ImageDraw\n",
    "data = mat73.loadmat(\"C:/Users/ibrahim.l/Desktop/brain/data/\"+str(1)+\".mat\")\n",
    "image=Image.fromarray(data['cjdata']['image'])\n",
    "#image.show()\n",
    "resized = cv2.resize(data['cjdata']['image'],(256,256), interpolation = cv2.INTER_AREA)\n",
    "image=Image.fromarray(resized)\n",
    "image.show()"
   ]
  },
  {
   "cell_type": "code",
   "execution_count": 17,
   "metadata": {},
   "outputs": [
    {
     "name": "stdout",
     "output_type": "stream",
     "text": [
      "[2. 3. 1. ... 3. 3. 2.]\n",
      "[3. 1. 3. 3. 3. 1. 2. 3. 1. 3. 2. 2. 1. 3. 2. 2. 2. 2. 3. 2. 3. 2. 2. 3.\n",
      " 2. 2. 3. 2. 2. 3. 2. 3. 2. 3. 3. 3. 1. 1. 3. 1. 3. 3. 1. 2. 1. 2. 3. 3.\n",
      " 1. 2. 3. 2. 2. 1. 1. 2. 1. 2. 2. 2. 2. 1. 3. 1. 3. 1. 2. 2. 2. 1. 3. 2.\n",
      " 2. 1. 3. 2. 1. 1. 1. 3. 2. 1. 2. 2. 1. 2. 1. 2. 1. 1. 2. 3. 2. 2. 2. 1.\n",
      " 1. 1. 2. 1. 3. 1. 1. 2. 2. 2. 2. 2. 2. 1. 3. 2. 1. 2. 2. 3. 2. 2. 3. 2.\n",
      " 2. 2. 3. 1. 2. 1. 1. 2. 1. 1. 2. 1. 1. 1. 2. 2. 2. 3. 3. 1. 2. 2. 2. 1.\n",
      " 2. 3. 2. 2. 3. 2. 3. 2. 2. 3. 3. 3. 3. 1. 2. 1. 3. 2. 1. 3. 2. 2. 2. 2.\n",
      " 3. 2. 2. 2. 3. 3. 3. 3. 3. 2. 1. 2. 2. 1. 2. 3. 2. 2. 2. 2. 2. 2. 1. 3.\n",
      " 1. 2. 3. 3. 2. 2. 2. 1. 1. 3. 2. 1. 1. 2. 3. 2. 1. 2. 1. 2. 3. 2. 3. 3.\n",
      " 3. 3. 2. 3. 2. 1. 3. 2. 2. 2. 1. 2. 1. 1. 2. 1. 1. 2. 3. 2. 1. 2. 2. 1.\n",
      " 2. 3. 1. 2. 3. 3. 1. 2. 3. 2. 2. 2. 3. 2. 3. 1. 2. 1. 1. 2. 1. 2. 1. 1.\n",
      " 2. 2. 3. 2. 1. 3. 3. 2. 1. 3. 3. 1. 2. 2. 3. 2. 2. 3. 2. 2. 3. 3. 3. 2.\n",
      " 2. 2. 1. 2. 2. 2. 3. 2. 2. 1. 2. 1. 3. 3. 1. 1. 3. 2. 2. 1. 3. 3. 2. 1.\n",
      " 1. 2. 3. 2. 3. 2. 3. 2. 3. 3. 1. 2. 3. 3. 1. 2. 1. 1. 3. 1. 3. 1. 2. 1.\n",
      " 2. 1. 3. 2. 3. 1. 1. 3. 3. 3. 1. 3. 3. 2. 1. 2. 2. 3. 1. 2. 1. 1. 3. 1.\n",
      " 2. 1. 3. 2. 3. 2. 3. 3. 2. 1. 2. 1. 2. 2. 2. 2. 2. 2. 3. 2. 2. 3. 3. 1.\n",
      " 1. 3. 2. 2. 2. 3. 1. 3. 1. 1. 2. 3. 1. 3. 2. 3. 3. 2. 3. 1. 2. 2. 3. 2.\n",
      " 3. 2. 2. 2. 2. 2. 3. 1. 3. 2. 3. 2. 2. 1. 2. 2. 3. 2. 2. 2. 1. 3. 1. 3.\n",
      " 2. 1. 2. 3. 3. 3. 1. 3. 3. 2. 2. 3. 1. 2. 2. 2. 2. 2. 3. 1. 3. 1. 2. 1.\n",
      " 2. 3. 2. 3. 2. 1. 3. 2. 2. 2. 1. 3. 2. 3. 3. 2. 3. 3. 1. 2. 2. 3. 2. 3.\n",
      " 3. 1. 3. 1. 3. 1. 2. 1. 3. 3. 3. 3. 2. 2. 2. 2. 2. 2. 1. 2. 1. 3. 2. 2.\n",
      " 3. 2. 1. 3. 1. 3. 3. 2. 2. 1. 1. 2. 2. 1. 3. 2. 1. 2. 2. 2. 2. 2. 2. 3.\n",
      " 2. 2. 1. 1. 3. 2. 2. 2. 1. 2. 1. 2. 1. 2. 2. 2. 1. 3. 1. 1. 1. 3. 1. 1.\n",
      " 2. 3. 1. 2. 2. 1. 3. 2. 2. 2. 2. 2. 3. 2. 2. 1. 3. 2. 1. 3. 1. 1. 3. 2.\n",
      " 2. 3. 2. 3. 2. 1. 1. 3. 1. 1. 3. 3. 1. 3. 1. 2. 2. 2. 2. 2. 3. 3. 2. 3.\n",
      " 1. 3. 3. 3. 2. 3. 3. 3. 2. 1. 1. 2. 2.]\n"
     ]
    }
   ],
   "source": [
    "import mat73\n",
    "import cv2\n",
    "import numpy as np\n",
    "from PIL import Image,ImageDraw\n",
    "from sklearn.model_selection import train_test_split\n",
    "X=np.zeros((3064,256,256))\n",
    "Y=np.zeros((3064,))\n",
    "for i in range(0,3064):\n",
    "    data = mat73.loadmat(\"C:/Users/ibrahim.l/Desktop/brain/data/\"+str(i+1)+\".mat\")\n",
    "    resized = cv2.resize(data['cjdata']['image'],(256,256), interpolation = cv2.INTER_AREA)\n",
    "    Y[i]=data['cjdata']['label']\n",
    "    #print(data)\n",
    "    #image=Image.fromarray(data['cjdata']['image'])\n",
    "    #draw = ImageDraw.Draw(image)\n",
    "    #draw.point(data['cjdata']['tumorBorder'], fill=\"red\")\n",
    "    #image.show()\n",
    "    X[i]=resized\n",
    "    \n",
    "X_train, X_test, Y_train, Y_test = train_test_split(X,Y, test_size=0.2,random_state=42,shuffle=True)    \n",
    "print(Y_train)    \n",
    "print(Y_test)"
   ]
  },
  {
   "cell_type": "code",
   "execution_count": null,
   "metadata": {},
   "outputs": [
    {
     "name": "stdout",
     "output_type": "stream",
     "text": [
      "Epoch 1/20\n"
     ]
    }
   ],
   "source": [
    "X_train = X_train.reshape(X_train.shape[0], 256, 256,1)\n",
    "X_test = X_test.reshape(X_test.shape[0], 256, 256,1)\n",
    "X_train /= 255\n",
    "X_test /= 255\n",
    "\n",
    "\n",
    "from keras.utils import np_utils\n",
    "Y_train=np_utils.to_categorical(Y_train,10)\n",
    "Y_test=np_utils.to_categorical(Y_test,10)\n",
    "\n",
    "from tensorflow.keras.models import Sequential\n",
    "from tensorflow.keras.layers import Dense ,Dropout ,BatchNormalization\n",
    "from tensorflow.keras.layers import Conv2D, MaxPooling2D, Flatten\n",
    "\n",
    "def create_model():\n",
    "    model=Sequential()\n",
    "    model.add(Conv2D(64, (3, 3), strides=(1, 1), padding='same', activation='relu', input_shape=(256,256,1)))\n",
    "    model.add(Conv2D(32, (3, 3),strides=(1, 1), padding='same', activation='relu'))\n",
    "    model.add(MaxPooling2D(pool_size=(2,2)))\n",
    "    model.add(Dropout(0.25))\n",
    "    model.add(Flatten())\n",
    "    model.add(Dense(128, activation='relu'))\n",
    "    model.add(Dropout(0.5))\n",
    "    model.add(Dense(10, activation='softmax'))\n",
    "\n",
    "    return model\n",
    "\n",
    "\n",
    "model=create_model()\n",
    "\n",
    "model.compile(optimizer=\"adam\", loss=\"categorical_crossentropy\", metrics=[\"accuracy\"])\n",
    "\n",
    "\n",
    "\n",
    "h=model.fit(X_train, Y_train, batch_size=128, epochs=20, validation_data=(X_test,Y_test))\n"
   ]
  }
 ],
 "metadata": {
  "kernelspec": {
   "display_name": "Python 3",
   "language": "python",
   "name": "python3"
  },
  "language_info": {
   "codemirror_mode": {
    "name": "ipython",
    "version": 3
   },
   "file_extension": ".py",
   "mimetype": "text/x-python",
   "name": "python",
   "nbconvert_exporter": "python",
   "pygments_lexer": "ipython3",
   "version": "3.7.4"
  }
 },
 "nbformat": 4,
 "nbformat_minor": 2
}
